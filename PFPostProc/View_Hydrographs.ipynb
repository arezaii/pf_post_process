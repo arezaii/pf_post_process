{
 "cells": [
  {
   "cell_type": "code",
   "execution_count": 3,
   "metadata": {},
   "outputs": [],
   "source": [
    "import pandas as pd\n",
    "import glob\n",
    "import os\n",
    "import matplotlib.pyplot as plt\n",
    "from pathlib import Path\n",
    "from GaugeLocator import generate_flow_at_gauges\n",
    "plt.rcParams.update({'figure.max_open_warning': 0})"
   ]
  },
  {
   "cell_type": "markdown",
   "metadata": {},
   "source": [
    "## Set the path to the directory containing ParFlow output files"
   ]
  },
  {
   "cell_type": "code",
   "execution_count": 4,
   "metadata": {},
   "outputs": [],
   "source": [
    "PATH_TO_PF_OUTPUTS = '../pf_rundir'"
   ]
  },
  {
   "cell_type": "code",
   "execution_count": null,
   "metadata": {},
   "outputs": [],
   "source": [
    "if not os.path.isfile(os.path.join(PATH_TO_PF_OUTPUTS, 'cuahsi-subset.out.pftcl')):\n",
    "    print('ERROR: You need to run the ParFlow simulation first\\n'\n",
    "            'Open a new terminal and type:\\n'\n",
    "                '\\tcd /home/jovyan/pf_rundir\\n'\n",
    "                '\\ttclsh simulation.tcl')"
   ]
  },
  {
   "cell_type": "markdown",
   "metadata": {},
   "source": [
    "## Set the path to write outputs for each gauge"
   ]
  },
  {
   "cell_type": "code",
   "execution_count": null,
   "metadata": {},
   "outputs": [],
   "source": [
    "PATH_TO_CSV_OUTPUTS = os.path.join(PATH_TO_PF_OUTPUTS, 'flows')\n",
    "Path(PATH_TO_CSV_OUTPUTS).mkdir(parents=True, exist_ok=True)"
   ]
  },
  {
   "cell_type": "markdown",
   "metadata": {},
   "source": [
    "## Set the start date of the ParFlow simulation, if known"
   ]
  },
  {
   "cell_type": "code",
   "execution_count": null,
   "metadata": {
    "scrolled": true
   },
   "outputs": [],
   "source": [
    "START_DATE = None # None or else set a date like this '10-1-2014'"
   ]
  },
  {
   "cell_type": "markdown",
   "metadata": {},
   "source": [
    "## Set flag to save PNG files for each hydrograph"
   ]
  },
  {
   "cell_type": "code",
   "execution_count": null,
   "metadata": {},
   "outputs": [],
   "source": [
    "GENERATE_PNG = False # False or True"
   ]
  },
  {
   "cell_type": "markdown",
   "metadata": {},
   "source": [
    "## Process the ParFlow outputs"
   ]
  },
  {
   "cell_type": "code",
   "execution_count": null,
   "metadata": {},
   "outputs": [],
   "source": [
    "parflow_dataframes = generate_flow_at_gauges(PATH_TO_PF_OUTPUTS, PATH_TO_CSV_OUTPUTS,START_DATE, GENERATE_PNG)"
   ]
  },
  {
   "cell_type": "markdown",
   "metadata": {},
   "source": [
    "## Plot the simulated flow at each gauge location"
   ]
  },
  {
   "cell_type": "code",
   "execution_count": null,
   "metadata": {
    "scrolled": true
   },
   "outputs": [],
   "source": [
    "for name, group in parflow_dataframes.filter(['STAID', 'STANAME','timestep','flow_cms','flow_cfs']).groupby(['STAID', 'STANAME']):\n",
    "        title = f'Gauge_#{name[0]}_{name[1]}'\n",
    "        plot = group.plot(x='timestep', y='flow_cfs', kind='line', figsize=(16, 8), title=title, label='ParFlow Simulated Flow')\n",
    "        plot.set_ylabel('CFS')\n",
    "        plot"
   ]
  },
  {
   "cell_type": "code",
   "execution_count": null,
   "metadata": {},
   "outputs": [],
   "source": []
  }
 ],
 "metadata": {
  "kernelspec": {
   "display_name": "Python 3",
   "language": "python",
   "name": "python3"
  },
  "language_info": {
   "codemirror_mode": {
    "name": "ipython",
    "version": 3
   },
   "file_extension": ".py",
   "mimetype": "text/x-python",
   "name": "python",
   "nbconvert_exporter": "python",
   "pygments_lexer": "ipython3",
   "version": "3.7.6"
  }
 },
 "nbformat": 4,
 "nbformat_minor": 2
}
